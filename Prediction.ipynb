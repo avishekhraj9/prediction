{
  "nbformat": 4,
  "nbformat_minor": 0,
  "metadata": {
    "colab": {
      "provenance": [],
      "authorship_tag": "ABX9TyNMXDqQ76DoSrKDLRepHqm6",
      "include_colab_link": true
    },
    "kernelspec": {
      "name": "python3",
      "display_name": "Python 3"
    },
    "language_info": {
      "name": "python"
    }
  },
  "cells": [
    {
      "cell_type": "markdown",
      "metadata": {
        "id": "view-in-github",
        "colab_type": "text"
      },
      "source": [
        "<a href=\"https://colab.research.google.com/github/avishekhraj9/prediction/blob/main/Prediction.ipynb\" target=\"_parent\"><img src=\"https://colab.research.google.com/assets/colab-badge.svg\" alt=\"Open In Colab\"/></a>"
      ]
    },
    {
      "cell_type": "code",
      "execution_count": 1,
      "metadata": {
        "id": "gf8F6d0pGAx1"
      },
      "outputs": [],
      "source": [
        "import numpy as np\n",
        "import pandas as pd\n",
        "import matplotlib.pyplot as plt\n",
        "import seaborn as sns\n",
        "from sklearn.model_selection import train_test_split\n",
        "from sklearn.ensemble import RandomForestRegressor\n",
        "from sklearn import metrics"
      ]
    },
    {
      "cell_type": "markdown",
      "source": [
        "data collecton and processing"
      ],
      "metadata": {
        "id": "KdSGcB4TGb6h"
      }
    },
    {
      "cell_type": "code",
      "source": [
        "#loadind the scv data to a pandans dataframe\n",
        "gold_data = pd.read_csv(\"/content/gld_price_data.csv\")"
      ],
      "metadata": {
        "id": "HJftMnXoGhRP"
      },
      "execution_count": 3,
      "outputs": []
    },
    {
      "cell_type": "code",
      "source": [],
      "metadata": {
        "id": "yOiM5wo0HkUh"
      },
      "execution_count": null,
      "outputs": []
    },
    {
      "cell_type": "code",
      "source": [
        "# print first 5 rows in the dataframe\n",
        "gold_data.head()"
      ],
      "metadata": {
        "colab": {
          "base_uri": "https://localhost:8080/",
          "height": 206
        },
        "id": "zMnQ3OBrHPnn",
        "outputId": "c5aa7d82-c908-4e41-b249-4e740700f85f"
      },
      "execution_count": 5,
      "outputs": [
        {
          "output_type": "execute_result",
          "data": {
            "text/plain": [
              "       Date          SPX        GLD        USO     SLV   EUR/USD\n",
              "0  1/2/2008  1447.160034  84.860001  78.470001  15.180  1.471692\n",
              "1  1/3/2008  1447.160034  85.570000  78.370003  15.285  1.474491\n",
              "2  1/4/2008  1411.630005  85.129997  77.309998  15.167  1.475492\n",
              "3  1/7/2008  1416.180054  84.769997  75.500000  15.053  1.468299\n",
              "4  1/8/2008  1390.189941  86.779999  76.059998  15.590  1.557099"
            ],
            "text/html": [
              "\n",
              "  <div id=\"df-5763f074-38a5-47c9-9290-bba15b15796b\">\n",
              "    <div class=\"colab-df-container\">\n",
              "      <div>\n",
              "<style scoped>\n",
              "    .dataframe tbody tr th:only-of-type {\n",
              "        vertical-align: middle;\n",
              "    }\n",
              "\n",
              "    .dataframe tbody tr th {\n",
              "        vertical-align: top;\n",
              "    }\n",
              "\n",
              "    .dataframe thead th {\n",
              "        text-align: right;\n",
              "    }\n",
              "</style>\n",
              "<table border=\"1\" class=\"dataframe\">\n",
              "  <thead>\n",
              "    <tr style=\"text-align: right;\">\n",
              "      <th></th>\n",
              "      <th>Date</th>\n",
              "      <th>SPX</th>\n",
              "      <th>GLD</th>\n",
              "      <th>USO</th>\n",
              "      <th>SLV</th>\n",
              "      <th>EUR/USD</th>\n",
              "    </tr>\n",
              "  </thead>\n",
              "  <tbody>\n",
              "    <tr>\n",
              "      <th>0</th>\n",
              "      <td>1/2/2008</td>\n",
              "      <td>1447.160034</td>\n",
              "      <td>84.860001</td>\n",
              "      <td>78.470001</td>\n",
              "      <td>15.180</td>\n",
              "      <td>1.471692</td>\n",
              "    </tr>\n",
              "    <tr>\n",
              "      <th>1</th>\n",
              "      <td>1/3/2008</td>\n",
              "      <td>1447.160034</td>\n",
              "      <td>85.570000</td>\n",
              "      <td>78.370003</td>\n",
              "      <td>15.285</td>\n",
              "      <td>1.474491</td>\n",
              "    </tr>\n",
              "    <tr>\n",
              "      <th>2</th>\n",
              "      <td>1/4/2008</td>\n",
              "      <td>1411.630005</td>\n",
              "      <td>85.129997</td>\n",
              "      <td>77.309998</td>\n",
              "      <td>15.167</td>\n",
              "      <td>1.475492</td>\n",
              "    </tr>\n",
              "    <tr>\n",
              "      <th>3</th>\n",
              "      <td>1/7/2008</td>\n",
              "      <td>1416.180054</td>\n",
              "      <td>84.769997</td>\n",
              "      <td>75.500000</td>\n",
              "      <td>15.053</td>\n",
              "      <td>1.468299</td>\n",
              "    </tr>\n",
              "    <tr>\n",
              "      <th>4</th>\n",
              "      <td>1/8/2008</td>\n",
              "      <td>1390.189941</td>\n",
              "      <td>86.779999</td>\n",
              "      <td>76.059998</td>\n",
              "      <td>15.590</td>\n",
              "      <td>1.557099</td>\n",
              "    </tr>\n",
              "  </tbody>\n",
              "</table>\n",
              "</div>\n",
              "      <button class=\"colab-df-convert\" onclick=\"convertToInteractive('df-5763f074-38a5-47c9-9290-bba15b15796b')\"\n",
              "              title=\"Convert this dataframe to an interactive table.\"\n",
              "              style=\"display:none;\">\n",
              "        \n",
              "  <svg xmlns=\"http://www.w3.org/2000/svg\" height=\"24px\"viewBox=\"0 0 24 24\"\n",
              "       width=\"24px\">\n",
              "    <path d=\"M0 0h24v24H0V0z\" fill=\"none\"/>\n",
              "    <path d=\"M18.56 5.44l.94 2.06.94-2.06 2.06-.94-2.06-.94-.94-2.06-.94 2.06-2.06.94zm-11 1L8.5 8.5l.94-2.06 2.06-.94-2.06-.94L8.5 2.5l-.94 2.06-2.06.94zm10 10l.94 2.06.94-2.06 2.06-.94-2.06-.94-.94-2.06-.94 2.06-2.06.94z\"/><path d=\"M17.41 7.96l-1.37-1.37c-.4-.4-.92-.59-1.43-.59-.52 0-1.04.2-1.43.59L10.3 9.45l-7.72 7.72c-.78.78-.78 2.05 0 2.83L4 21.41c.39.39.9.59 1.41.59.51 0 1.02-.2 1.41-.59l7.78-7.78 2.81-2.81c.8-.78.8-2.07 0-2.86zM5.41 20L4 18.59l7.72-7.72 1.47 1.35L5.41 20z\"/>\n",
              "  </svg>\n",
              "      </button>\n",
              "      \n",
              "  <style>\n",
              "    .colab-df-container {\n",
              "      display:flex;\n",
              "      flex-wrap:wrap;\n",
              "      gap: 12px;\n",
              "    }\n",
              "\n",
              "    .colab-df-convert {\n",
              "      background-color: #E8F0FE;\n",
              "      border: none;\n",
              "      border-radius: 50%;\n",
              "      cursor: pointer;\n",
              "      display: none;\n",
              "      fill: #1967D2;\n",
              "      height: 32px;\n",
              "      padding: 0 0 0 0;\n",
              "      width: 32px;\n",
              "    }\n",
              "\n",
              "    .colab-df-convert:hover {\n",
              "      background-color: #E2EBFA;\n",
              "      box-shadow: 0px 1px 2px rgba(60, 64, 67, 0.3), 0px 1px 3px 1px rgba(60, 64, 67, 0.15);\n",
              "      fill: #174EA6;\n",
              "    }\n",
              "\n",
              "    [theme=dark] .colab-df-convert {\n",
              "      background-color: #3B4455;\n",
              "      fill: #D2E3FC;\n",
              "    }\n",
              "\n",
              "    [theme=dark] .colab-df-convert:hover {\n",
              "      background-color: #434B5C;\n",
              "      box-shadow: 0px 1px 3px 1px rgba(0, 0, 0, 0.15);\n",
              "      filter: drop-shadow(0px 1px 2px rgba(0, 0, 0, 0.3));\n",
              "      fill: #FFFFFF;\n",
              "    }\n",
              "  </style>\n",
              "\n",
              "      <script>\n",
              "        const buttonEl =\n",
              "          document.querySelector('#df-5763f074-38a5-47c9-9290-bba15b15796b button.colab-df-convert');\n",
              "        buttonEl.style.display =\n",
              "          google.colab.kernel.accessAllowed ? 'block' : 'none';\n",
              "\n",
              "        async function convertToInteractive(key) {\n",
              "          const element = document.querySelector('#df-5763f074-38a5-47c9-9290-bba15b15796b');\n",
              "          const dataTable =\n",
              "            await google.colab.kernel.invokeFunction('convertToInteractive',\n",
              "                                                     [key], {});\n",
              "          if (!dataTable) return;\n",
              "\n",
              "          const docLinkHtml = 'Like what you see? Visit the ' +\n",
              "            '<a target=\"_blank\" href=https://colab.research.google.com/notebooks/data_table.ipynb>data table notebook</a>'\n",
              "            + ' to learn more about interactive tables.';\n",
              "          element.innerHTML = '';\n",
              "          dataTable['output_type'] = 'display_data';\n",
              "          await google.colab.output.renderOutput(dataTable, element);\n",
              "          const docLink = document.createElement('div');\n",
              "          docLink.innerHTML = docLinkHtml;\n",
              "          element.appendChild(docLink);\n",
              "        }\n",
              "      </script>\n",
              "    </div>\n",
              "  </div>\n",
              "  "
            ]
          },
          "metadata": {},
          "execution_count": 5
        }
      ]
    },
    {
      "cell_type": "code",
      "source": [
        "# print last 5 rows of dataframe\n",
        "gold_data.tail()"
      ],
      "metadata": {
        "colab": {
          "base_uri": "https://localhost:8080/",
          "height": 206
        },
        "id": "i0F0i6-aHu14",
        "outputId": "014cf3bc-b2ba-40db-974e-893e85ed7879"
      },
      "execution_count": 6,
      "outputs": [
        {
          "output_type": "execute_result",
          "data": {
            "text/plain": [
              "           Date          SPX         GLD      USO      SLV   EUR/USD\n",
              "2285   5/8/2018  2671.919922  124.589996  14.0600  15.5100  1.186789\n",
              "2286   5/9/2018  2697.790039  124.330002  14.3700  15.5300  1.184722\n",
              "2287  5/10/2018  2723.070068  125.180000  14.4100  15.7400  1.191753\n",
              "2288  5/14/2018  2730.129883  124.489998  14.3800  15.5600  1.193118\n",
              "2289  5/16/2018  2725.780029  122.543800  14.4058  15.4542  1.182033"
            ],
            "text/html": [
              "\n",
              "  <div id=\"df-c726dda3-6b77-43c5-8223-31948100478b\">\n",
              "    <div class=\"colab-df-container\">\n",
              "      <div>\n",
              "<style scoped>\n",
              "    .dataframe tbody tr th:only-of-type {\n",
              "        vertical-align: middle;\n",
              "    }\n",
              "\n",
              "    .dataframe tbody tr th {\n",
              "        vertical-align: top;\n",
              "    }\n",
              "\n",
              "    .dataframe thead th {\n",
              "        text-align: right;\n",
              "    }\n",
              "</style>\n",
              "<table border=\"1\" class=\"dataframe\">\n",
              "  <thead>\n",
              "    <tr style=\"text-align: right;\">\n",
              "      <th></th>\n",
              "      <th>Date</th>\n",
              "      <th>SPX</th>\n",
              "      <th>GLD</th>\n",
              "      <th>USO</th>\n",
              "      <th>SLV</th>\n",
              "      <th>EUR/USD</th>\n",
              "    </tr>\n",
              "  </thead>\n",
              "  <tbody>\n",
              "    <tr>\n",
              "      <th>2285</th>\n",
              "      <td>5/8/2018</td>\n",
              "      <td>2671.919922</td>\n",
              "      <td>124.589996</td>\n",
              "      <td>14.0600</td>\n",
              "      <td>15.5100</td>\n",
              "      <td>1.186789</td>\n",
              "    </tr>\n",
              "    <tr>\n",
              "      <th>2286</th>\n",
              "      <td>5/9/2018</td>\n",
              "      <td>2697.790039</td>\n",
              "      <td>124.330002</td>\n",
              "      <td>14.3700</td>\n",
              "      <td>15.5300</td>\n",
              "      <td>1.184722</td>\n",
              "    </tr>\n",
              "    <tr>\n",
              "      <th>2287</th>\n",
              "      <td>5/10/2018</td>\n",
              "      <td>2723.070068</td>\n",
              "      <td>125.180000</td>\n",
              "      <td>14.4100</td>\n",
              "      <td>15.7400</td>\n",
              "      <td>1.191753</td>\n",
              "    </tr>\n",
              "    <tr>\n",
              "      <th>2288</th>\n",
              "      <td>5/14/2018</td>\n",
              "      <td>2730.129883</td>\n",
              "      <td>124.489998</td>\n",
              "      <td>14.3800</td>\n",
              "      <td>15.5600</td>\n",
              "      <td>1.193118</td>\n",
              "    </tr>\n",
              "    <tr>\n",
              "      <th>2289</th>\n",
              "      <td>5/16/2018</td>\n",
              "      <td>2725.780029</td>\n",
              "      <td>122.543800</td>\n",
              "      <td>14.4058</td>\n",
              "      <td>15.4542</td>\n",
              "      <td>1.182033</td>\n",
              "    </tr>\n",
              "  </tbody>\n",
              "</table>\n",
              "</div>\n",
              "      <button class=\"colab-df-convert\" onclick=\"convertToInteractive('df-c726dda3-6b77-43c5-8223-31948100478b')\"\n",
              "              title=\"Convert this dataframe to an interactive table.\"\n",
              "              style=\"display:none;\">\n",
              "        \n",
              "  <svg xmlns=\"http://www.w3.org/2000/svg\" height=\"24px\"viewBox=\"0 0 24 24\"\n",
              "       width=\"24px\">\n",
              "    <path d=\"M0 0h24v24H0V0z\" fill=\"none\"/>\n",
              "    <path d=\"M18.56 5.44l.94 2.06.94-2.06 2.06-.94-2.06-.94-.94-2.06-.94 2.06-2.06.94zm-11 1L8.5 8.5l.94-2.06 2.06-.94-2.06-.94L8.5 2.5l-.94 2.06-2.06.94zm10 10l.94 2.06.94-2.06 2.06-.94-2.06-.94-.94-2.06-.94 2.06-2.06.94z\"/><path d=\"M17.41 7.96l-1.37-1.37c-.4-.4-.92-.59-1.43-.59-.52 0-1.04.2-1.43.59L10.3 9.45l-7.72 7.72c-.78.78-.78 2.05 0 2.83L4 21.41c.39.39.9.59 1.41.59.51 0 1.02-.2 1.41-.59l7.78-7.78 2.81-2.81c.8-.78.8-2.07 0-2.86zM5.41 20L4 18.59l7.72-7.72 1.47 1.35L5.41 20z\"/>\n",
              "  </svg>\n",
              "      </button>\n",
              "      \n",
              "  <style>\n",
              "    .colab-df-container {\n",
              "      display:flex;\n",
              "      flex-wrap:wrap;\n",
              "      gap: 12px;\n",
              "    }\n",
              "\n",
              "    .colab-df-convert {\n",
              "      background-color: #E8F0FE;\n",
              "      border: none;\n",
              "      border-radius: 50%;\n",
              "      cursor: pointer;\n",
              "      display: none;\n",
              "      fill: #1967D2;\n",
              "      height: 32px;\n",
              "      padding: 0 0 0 0;\n",
              "      width: 32px;\n",
              "    }\n",
              "\n",
              "    .colab-df-convert:hover {\n",
              "      background-color: #E2EBFA;\n",
              "      box-shadow: 0px 1px 2px rgba(60, 64, 67, 0.3), 0px 1px 3px 1px rgba(60, 64, 67, 0.15);\n",
              "      fill: #174EA6;\n",
              "    }\n",
              "\n",
              "    [theme=dark] .colab-df-convert {\n",
              "      background-color: #3B4455;\n",
              "      fill: #D2E3FC;\n",
              "    }\n",
              "\n",
              "    [theme=dark] .colab-df-convert:hover {\n",
              "      background-color: #434B5C;\n",
              "      box-shadow: 0px 1px 3px 1px rgba(0, 0, 0, 0.15);\n",
              "      filter: drop-shadow(0px 1px 2px rgba(0, 0, 0, 0.3));\n",
              "      fill: #FFFFFF;\n",
              "    }\n",
              "  </style>\n",
              "\n",
              "      <script>\n",
              "        const buttonEl =\n",
              "          document.querySelector('#df-c726dda3-6b77-43c5-8223-31948100478b button.colab-df-convert');\n",
              "        buttonEl.style.display =\n",
              "          google.colab.kernel.accessAllowed ? 'block' : 'none';\n",
              "\n",
              "        async function convertToInteractive(key) {\n",
              "          const element = document.querySelector('#df-c726dda3-6b77-43c5-8223-31948100478b');\n",
              "          const dataTable =\n",
              "            await google.colab.kernel.invokeFunction('convertToInteractive',\n",
              "                                                     [key], {});\n",
              "          if (!dataTable) return;\n",
              "\n",
              "          const docLinkHtml = 'Like what you see? Visit the ' +\n",
              "            '<a target=\"_blank\" href=https://colab.research.google.com/notebooks/data_table.ipynb>data table notebook</a>'\n",
              "            + ' to learn more about interactive tables.';\n",
              "          element.innerHTML = '';\n",
              "          dataTable['output_type'] = 'display_data';\n",
              "          await google.colab.output.renderOutput(dataTable, element);\n",
              "          const docLink = document.createElement('div');\n",
              "          docLink.innerHTML = docLinkHtml;\n",
              "          element.appendChild(docLink);\n",
              "        }\n",
              "      </script>\n",
              "    </div>\n",
              "  </div>\n",
              "  "
            ]
          },
          "metadata": {},
          "execution_count": 6
        }
      ]
    },
    {
      "cell_type": "code",
      "source": [
        "#no of rows and column\n",
        "gold_data.shape"
      ],
      "metadata": {
        "colab": {
          "base_uri": "https://localhost:8080/"
        },
        "id": "XvA8A28aHx6-",
        "outputId": "b1328631-cad8-4d97-cb8b-51b52f8cf19b"
      },
      "execution_count": 7,
      "outputs": [
        {
          "output_type": "execute_result",
          "data": {
            "text/plain": [
              "(2290, 6)"
            ]
          },
          "metadata": {},
          "execution_count": 7
        }
      ]
    },
    {
      "cell_type": "code",
      "source": [
        "#getting some basic information about the data\n",
        "gold_data.info()"
      ],
      "metadata": {
        "colab": {
          "base_uri": "https://localhost:8080/"
        },
        "id": "E3cjZyCEH1sR",
        "outputId": "4a64ceb6-35e6-4795-f582-72066ffa3395"
      },
      "execution_count": 8,
      "outputs": [
        {
          "output_type": "stream",
          "name": "stdout",
          "text": [
            "<class 'pandas.core.frame.DataFrame'>\n",
            "RangeIndex: 2290 entries, 0 to 2289\n",
            "Data columns (total 6 columns):\n",
            " #   Column   Non-Null Count  Dtype  \n",
            "---  ------   --------------  -----  \n",
            " 0   Date     2290 non-null   object \n",
            " 1   SPX      2290 non-null   float64\n",
            " 2   GLD      2290 non-null   float64\n",
            " 3   USO      2290 non-null   float64\n",
            " 4   SLV      2290 non-null   float64\n",
            " 5   EUR/USD  2290 non-null   float64\n",
            "dtypes: float64(5), object(1)\n",
            "memory usage: 107.5+ KB\n"
          ]
        }
      ]
    },
    {
      "cell_type": "code",
      "source": [
        "#checking the number of missing values\n",
        "gold_data.isnull().sum()"
      ],
      "metadata": {
        "colab": {
          "base_uri": "https://localhost:8080/"
        },
        "id": "zI2Aj-fsH5V4",
        "outputId": "e1df264b-bd94-4e2d-c011-3b2138d8d66d"
      },
      "execution_count": 9,
      "outputs": [
        {
          "output_type": "execute_result",
          "data": {
            "text/plain": [
              "Date       0\n",
              "SPX        0\n",
              "GLD        0\n",
              "USO        0\n",
              "SLV        0\n",
              "EUR/USD    0\n",
              "dtype: int64"
            ]
          },
          "metadata": {},
          "execution_count": 9
        }
      ]
    },
    {
      "cell_type": "code",
      "source": [
        "#getting the statical measures of the data\n",
        "gold_data.describe()"
      ],
      "metadata": {
        "colab": {
          "base_uri": "https://localhost:8080/",
          "height": 300
        },
        "id": "fH7hE_K_H9-t",
        "outputId": "64ee5283-b58b-4f6c-dbda-35fdefe9041d"
      },
      "execution_count": 10,
      "outputs": [
        {
          "output_type": "execute_result",
          "data": {
            "text/plain": [
              "               SPX          GLD          USO          SLV      EUR/USD\n",
              "count  2290.000000  2290.000000  2290.000000  2290.000000  2290.000000\n",
              "mean   1654.315776   122.732875    31.842221    20.084997     1.283653\n",
              "std     519.111540    23.283346    19.523517     7.092566     0.131547\n",
              "min     676.530029    70.000000     7.960000     8.850000     1.039047\n",
              "25%    1239.874969   109.725000    14.380000    15.570000     1.171313\n",
              "50%    1551.434998   120.580002    33.869999    17.268500     1.303297\n",
              "75%    2073.010070   132.840004    37.827501    22.882500     1.369971\n",
              "max    2872.870117   184.589996   117.480003    47.259998     1.598798"
            ],
            "text/html": [
              "\n",
              "  <div id=\"df-ae7a9188-de61-4a92-8422-601cefd1bdf4\">\n",
              "    <div class=\"colab-df-container\">\n",
              "      <div>\n",
              "<style scoped>\n",
              "    .dataframe tbody tr th:only-of-type {\n",
              "        vertical-align: middle;\n",
              "    }\n",
              "\n",
              "    .dataframe tbody tr th {\n",
              "        vertical-align: top;\n",
              "    }\n",
              "\n",
              "    .dataframe thead th {\n",
              "        text-align: right;\n",
              "    }\n",
              "</style>\n",
              "<table border=\"1\" class=\"dataframe\">\n",
              "  <thead>\n",
              "    <tr style=\"text-align: right;\">\n",
              "      <th></th>\n",
              "      <th>SPX</th>\n",
              "      <th>GLD</th>\n",
              "      <th>USO</th>\n",
              "      <th>SLV</th>\n",
              "      <th>EUR/USD</th>\n",
              "    </tr>\n",
              "  </thead>\n",
              "  <tbody>\n",
              "    <tr>\n",
              "      <th>count</th>\n",
              "      <td>2290.000000</td>\n",
              "      <td>2290.000000</td>\n",
              "      <td>2290.000000</td>\n",
              "      <td>2290.000000</td>\n",
              "      <td>2290.000000</td>\n",
              "    </tr>\n",
              "    <tr>\n",
              "      <th>mean</th>\n",
              "      <td>1654.315776</td>\n",
              "      <td>122.732875</td>\n",
              "      <td>31.842221</td>\n",
              "      <td>20.084997</td>\n",
              "      <td>1.283653</td>\n",
              "    </tr>\n",
              "    <tr>\n",
              "      <th>std</th>\n",
              "      <td>519.111540</td>\n",
              "      <td>23.283346</td>\n",
              "      <td>19.523517</td>\n",
              "      <td>7.092566</td>\n",
              "      <td>0.131547</td>\n",
              "    </tr>\n",
              "    <tr>\n",
              "      <th>min</th>\n",
              "      <td>676.530029</td>\n",
              "      <td>70.000000</td>\n",
              "      <td>7.960000</td>\n",
              "      <td>8.850000</td>\n",
              "      <td>1.039047</td>\n",
              "    </tr>\n",
              "    <tr>\n",
              "      <th>25%</th>\n",
              "      <td>1239.874969</td>\n",
              "      <td>109.725000</td>\n",
              "      <td>14.380000</td>\n",
              "      <td>15.570000</td>\n",
              "      <td>1.171313</td>\n",
              "    </tr>\n",
              "    <tr>\n",
              "      <th>50%</th>\n",
              "      <td>1551.434998</td>\n",
              "      <td>120.580002</td>\n",
              "      <td>33.869999</td>\n",
              "      <td>17.268500</td>\n",
              "      <td>1.303297</td>\n",
              "    </tr>\n",
              "    <tr>\n",
              "      <th>75%</th>\n",
              "      <td>2073.010070</td>\n",
              "      <td>132.840004</td>\n",
              "      <td>37.827501</td>\n",
              "      <td>22.882500</td>\n",
              "      <td>1.369971</td>\n",
              "    </tr>\n",
              "    <tr>\n",
              "      <th>max</th>\n",
              "      <td>2872.870117</td>\n",
              "      <td>184.589996</td>\n",
              "      <td>117.480003</td>\n",
              "      <td>47.259998</td>\n",
              "      <td>1.598798</td>\n",
              "    </tr>\n",
              "  </tbody>\n",
              "</table>\n",
              "</div>\n",
              "      <button class=\"colab-df-convert\" onclick=\"convertToInteractive('df-ae7a9188-de61-4a92-8422-601cefd1bdf4')\"\n",
              "              title=\"Convert this dataframe to an interactive table.\"\n",
              "              style=\"display:none;\">\n",
              "        \n",
              "  <svg xmlns=\"http://www.w3.org/2000/svg\" height=\"24px\"viewBox=\"0 0 24 24\"\n",
              "       width=\"24px\">\n",
              "    <path d=\"M0 0h24v24H0V0z\" fill=\"none\"/>\n",
              "    <path d=\"M18.56 5.44l.94 2.06.94-2.06 2.06-.94-2.06-.94-.94-2.06-.94 2.06-2.06.94zm-11 1L8.5 8.5l.94-2.06 2.06-.94-2.06-.94L8.5 2.5l-.94 2.06-2.06.94zm10 10l.94 2.06.94-2.06 2.06-.94-2.06-.94-.94-2.06-.94 2.06-2.06.94z\"/><path d=\"M17.41 7.96l-1.37-1.37c-.4-.4-.92-.59-1.43-.59-.52 0-1.04.2-1.43.59L10.3 9.45l-7.72 7.72c-.78.78-.78 2.05 0 2.83L4 21.41c.39.39.9.59 1.41.59.51 0 1.02-.2 1.41-.59l7.78-7.78 2.81-2.81c.8-.78.8-2.07 0-2.86zM5.41 20L4 18.59l7.72-7.72 1.47 1.35L5.41 20z\"/>\n",
              "  </svg>\n",
              "      </button>\n",
              "      \n",
              "  <style>\n",
              "    .colab-df-container {\n",
              "      display:flex;\n",
              "      flex-wrap:wrap;\n",
              "      gap: 12px;\n",
              "    }\n",
              "\n",
              "    .colab-df-convert {\n",
              "      background-color: #E8F0FE;\n",
              "      border: none;\n",
              "      border-radius: 50%;\n",
              "      cursor: pointer;\n",
              "      display: none;\n",
              "      fill: #1967D2;\n",
              "      height: 32px;\n",
              "      padding: 0 0 0 0;\n",
              "      width: 32px;\n",
              "    }\n",
              "\n",
              "    .colab-df-convert:hover {\n",
              "      background-color: #E2EBFA;\n",
              "      box-shadow: 0px 1px 2px rgba(60, 64, 67, 0.3), 0px 1px 3px 1px rgba(60, 64, 67, 0.15);\n",
              "      fill: #174EA6;\n",
              "    }\n",
              "\n",
              "    [theme=dark] .colab-df-convert {\n",
              "      background-color: #3B4455;\n",
              "      fill: #D2E3FC;\n",
              "    }\n",
              "\n",
              "    [theme=dark] .colab-df-convert:hover {\n",
              "      background-color: #434B5C;\n",
              "      box-shadow: 0px 1px 3px 1px rgba(0, 0, 0, 0.15);\n",
              "      filter: drop-shadow(0px 1px 2px rgba(0, 0, 0, 0.3));\n",
              "      fill: #FFFFFF;\n",
              "    }\n",
              "  </style>\n",
              "\n",
              "      <script>\n",
              "        const buttonEl =\n",
              "          document.querySelector('#df-ae7a9188-de61-4a92-8422-601cefd1bdf4 button.colab-df-convert');\n",
              "        buttonEl.style.display =\n",
              "          google.colab.kernel.accessAllowed ? 'block' : 'none';\n",
              "\n",
              "        async function convertToInteractive(key) {\n",
              "          const element = document.querySelector('#df-ae7a9188-de61-4a92-8422-601cefd1bdf4');\n",
              "          const dataTable =\n",
              "            await google.colab.kernel.invokeFunction('convertToInteractive',\n",
              "                                                     [key], {});\n",
              "          if (!dataTable) return;\n",
              "\n",
              "          const docLinkHtml = 'Like what you see? Visit the ' +\n",
              "            '<a target=\"_blank\" href=https://colab.research.google.com/notebooks/data_table.ipynb>data table notebook</a>'\n",
              "            + ' to learn more about interactive tables.';\n",
              "          element.innerHTML = '';\n",
              "          dataTable['output_type'] = 'display_data';\n",
              "          await google.colab.output.renderOutput(dataTable, element);\n",
              "          const docLink = document.createElement('div');\n",
              "          docLink.innerHTML = docLinkHtml;\n",
              "          element.appendChild(docLink);\n",
              "        }\n",
              "      </script>\n",
              "    </div>\n",
              "  </div>\n",
              "  "
            ]
          },
          "metadata": {},
          "execution_count": 10
        }
      ]
    },
    {
      "cell_type": "markdown",
      "source": [
        "correlation\n",
        "\n",
        "positive correletion\n",
        "negative correlation"
      ],
      "metadata": {
        "id": "i6vn7WrbIIRb"
      }
    },
    {
      "cell_type": "code",
      "source": [
        "correlation = gold_data.corr()"
      ],
      "metadata": {
        "colab": {
          "base_uri": "https://localhost:8080/"
        },
        "id": "rCve0DeWIJXM",
        "outputId": "96069c07-b9f3-4f0e-d2e4-bb285f921c94"
      },
      "execution_count": 11,
      "outputs": [
        {
          "output_type": "stream",
          "name": "stderr",
          "text": [
            "<ipython-input-11-b9d572e5c3ef>:1: FutureWarning: The default value of numeric_only in DataFrame.corr is deprecated. In a future version, it will default to False. Select only valid columns or specify the value of numeric_only to silence this warning.\n",
            "  correlation = gold_data.corr()\n"
          ]
        }
      ]
    },
    {
      "cell_type": "code",
      "source": [
        "#constructing heatmap to understand the correlation\n",
        "plt.figure(figsize=(8,8))\n",
        "sns.heatmap(correlation,cbar=True,square=True,fmt='.1f',annot=True,annot_kws={'size':8},cmap='Blues')"
      ],
      "metadata": {
        "colab": {
          "base_uri": "https://localhost:8080/",
          "height": 675
        },
        "id": "tpRHRQ2PIOkW",
        "outputId": "f789d864-c7ad-4772-cd8f-312f2b28c756"
      },
      "execution_count": 12,
      "outputs": [
        {
          "output_type": "execute_result",
          "data": {
            "text/plain": [
              "<Axes: >"
            ]
          },
          "metadata": {},
          "execution_count": 12
        },
        {
          "output_type": "display_data",
          "data": {
            "text/plain": [
              "<Figure size 800x800 with 2 Axes>"
            ],
            "image/png": "[encoded data removed]"
          },
          "metadata": {}
        }
      ]
    },
    {
      "cell_type": "code",
      "source": [
        "#correlation values of gld\n",
        "print(correlation['GLD'])"
      ],
      "metadata": {
        "colab": {
          "base_uri": "https://localhost:8080/"
        },
        "id": "AnKfcL2hIXb5",
        "outputId": "183a0ac2-f4c9-42cb-d41b-cb84eb74e48e"
      },
      "execution_count": 13,
      "outputs": [
        {
          "output_type": "stream",
          "name": "stdout",
          "text": [
            "SPX        0.049345\n",
            "GLD        1.000000\n",
            "USO       -0.186360\n",
            "SLV        0.866632\n",
            "EUR/USD   -0.024375\n",
            "Name: GLD, dtype: float64\n"
          ]
        }
      ]
    },
    {
      "cell_type": "code",
      "source": [
        "#checking the distribution of the gold\n",
        "sns.distplot(gold_data['GLD'],color='green')"
      ],
      "metadata": {
        "colab": {
          "base_uri": "https://localhost:8080/",
          "height": 662
        },
        "id": "YWrpA53SIbk-",
        "outputId": "3c9ee69b-4b9f-4526-ac26-57ddbe162846"
      },
      "execution_count": 14,
      "outputs": [
        {
          "output_type": "stream",
          "name": "stderr",
          "text": [
            "<ipython-input-14-1d3ec1765222>:2: UserWarning: \n",
            "\n",
            "`distplot` is a deprecated function and will be removed in seaborn v0.14.0.\n",
            "\n",
            "Please adapt your code to use either `displot` (a figure-level function with\n",
            "similar flexibility) or `histplot` (an axes-level function for histograms).\n",
            "\n",
            "For a guide to updating your code to use the new functions, please see\n",
            "https://gist.github.com/mwaskom/de44147ed2974457ad6372750bbe5751\n",
            "\n",
            "  sns.distplot(gold_data['GLD'],color='green')\n"
          ]
        },
        {
          "output_type": "execute_result",
          "data": {
            "text/plain": [
              "<Axes: xlabel='GLD', ylabel='Density'>"
            ]
          },
          "metadata": {},
          "execution_count": 14
        },
        {
          "output_type": "display_data",
          "data": {
            "text/plain": [
              "<Figure size 640x480 with 1 Axes>"
            ],
            "image/png": "[encoded data removed]"
          },
          "metadata": {}
        }
      ]
    },
    {
      "cell_type": "code",
      "source": [
        "X = gold_data.drop(['Date','GLD'],axis=1)\n",
        "Y = gold_data['GLD']"
      ],
      "metadata": {
        "id": "YMQugzeGIopP"
      },
      "execution_count": 15,
      "outputs": []
    },
    {
      "cell_type": "code",
      "source": [
        "print(X)"
      ],
      "metadata": {
        "colab": {
          "base_uri": "https://localhost:8080/"
        },
        "id": "_veZCPJ3ItvC",
        "outputId": "202769e7-b59c-480b-f481-f916fced413b"
      },
      "execution_count": 16,
      "outputs": [
        {
          "output_type": "stream",
          "name": "stdout",
          "text": [
            "              SPX        USO      SLV   EUR/USD\n",
            "0     1447.160034  78.470001  15.1800  1.471692\n",
            "1     1447.160034  78.370003  15.2850  1.474491\n",
            "2     1411.630005  77.309998  15.1670  1.475492\n",
            "3     1416.180054  75.500000  15.0530  1.468299\n",
            "4     1390.189941  76.059998  15.5900  1.557099\n",
            "...           ...        ...      ...       ...\n",
            "2285  2671.919922  14.060000  15.5100  1.186789\n",
            "2286  2697.790039  14.370000  15.5300  1.184722\n",
            "2287  2723.070068  14.410000  15.7400  1.191753\n",
            "2288  2730.129883  14.380000  15.5600  1.193118\n",
            "2289  2725.780029  14.405800  15.4542  1.182033\n",
            "\n",
            "[2290 rows x 4 columns]\n"
          ]
        }
      ]
    },
    {
      "cell_type": "code",
      "source": [
        "print(Y)"
      ],
      "metadata": {
        "colab": {
          "base_uri": "https://localhost:8080/"
        },
        "id": "iZZ8GZ4wIwr-",
        "outputId": "db1a3018-da7b-4a28-b829-04f45393d7c5"
      },
      "execution_count": 17,
      "outputs": [
        {
          "output_type": "stream",
          "name": "stdout",
          "text": [
            "0        84.860001\n",
            "1        85.570000\n",
            "2        85.129997\n",
            "3        84.769997\n",
            "4        86.779999\n",
            "           ...    \n",
            "2285    124.589996\n",
            "2286    124.330002\n",
            "2287    125.180000\n",
            "2288    124.489998\n",
            "2289    122.543800\n",
            "Name: GLD, Length: 2290, dtype: float64\n"
          ]
        }
      ]
    },
    {
      "cell_type": "code",
      "source": [
        "X_train, X_test, Y_train, Y_test = train_test_split(X,Y,test_size = 0.2,random_state=2)"
      ],
      "metadata": {
        "id": "rQ8LL2P3IzcT"
      },
      "execution_count": 18,
      "outputs": []
    },
    {
      "cell_type": "code",
      "source": [
        "regressor = RandomForestRegressor(n_estimators=100)"
      ],
      "metadata": {
        "id": "O5rdpredI3QN"
      },
      "execution_count": 19,
      "outputs": []
    },
    {
      "cell_type": "code",
      "source": [
        "#training the model\n",
        "regressor.fit(X_train,Y_train)"
      ],
      "metadata": {
        "colab": {
          "base_uri": "https://localhost:8080/",
          "height": 75
        },
        "id": "2SRYlbiCI6HR",
        "outputId": "c6093be6-ac8a-4476-b934-e98145978fe4"
      },
      "execution_count": 20,
      "outputs": [
        {
          "output_type": "execute_result",
          "data": {
            "text/plain": [
              "RandomForestRegressor()"
            ],
            "text/html": [
              "<style>#sk-container-id-1 {color: black;background-color: white;}#sk-container-id-1 pre{padding: 0;}#sk-container-id-1 div.sk-toggleable {background-color: white;}#sk-container-id-1 label.sk-toggleable__label {cursor: pointer;display: block;width: 100%;margin-bottom: 0;padding: 0.3em;box-sizing: border-box;text-align: center;}#sk-container-id-1 label.sk-toggleable__label-arrow:before {content: \"▸\";float: left;margin-right: 0.25em;color: #696969;}#sk-container-id-1 label.sk-toggleable__label-arrow:hover:before {color: black;}#sk-container-id-1 div.sk-estimator:hover label.sk-toggleable__label-arrow:before {color: black;}#sk-container-id-1 div.sk-toggleable__content {max-height: 0;max-width: 0;overflow: hidden;text-align: left;background-color: #f0f8ff;}#sk-container-id-1 div.sk-toggleable__content pre {margin: 0.2em;color: black;border-radius: 0.25em;background-color: #f0f8ff;}#sk-container-id-1 input.sk-toggleable__control:checked~div.sk-toggleable__content {max-height: 200px;max-width: 100%;overflow: auto;}#sk-container-id-1 input.sk-toggleable__control:checked~label.sk-toggleable__label-arrow:before {content: \"▾\";}#sk-container-id-1 div.sk-estimator input.sk-toggleable__control:checked~label.sk-toggleable__label {background-color: #d4ebff;}#sk-container-id-1 div.sk-label input.sk-toggleable__control:checked~label.sk-toggleable__label {background-color: #d4ebff;}#sk-container-id-1 input.sk-hidden--visually {border: 0;clip: rect(1px 1px 1px 1px);clip: rect(1px, 1px, 1px, 1px);height: 1px;margin: -1px;overflow: hidden;padding: 0;position: absolute;width: 1px;}#sk-container-id-1 div.sk-estimator {font-family: monospace;background-color: #f0f8ff;border: 1px dotted black;border-radius: 0.25em;box-sizing: border-box;margin-bottom: 0.5em;}#sk-container-id-1 div.sk-estimator:hover {background-color: #d4ebff;}#sk-container-id-1 div.sk-parallel-item::after {content: \"\";width: 100%;border-bottom: 1px solid gray;flex-grow: 1;}#sk-container-id-1 div.sk-label:hover label.sk-toggleable__label {background-color: #d4ebff;}#sk-container-id-1 div.sk-serial::before {content: \"\";position: absolute;border-left: 1px solid gray;box-sizing: border-box;top: 0;bottom: 0;left: 50%;z-index: 0;}#sk-container-id-1 div.sk-serial {display: flex;flex-direction: column;align-items: center;background-color: white;padding-right: 0.2em;padding-left: 0.2em;position: relative;}#sk-container-id-1 div.sk-item {position: relative;z-index: 1;}#sk-container-id-1 div.sk-parallel {display: flex;align-items: stretch;justify-content: center;background-color: white;position: relative;}#sk-container-id-1 div.sk-item::before, #sk-container-id-1 div.sk-parallel-item::before {content: \"\";position: absolute;border-left: 1px solid gray;box-sizing: border-box;top: 0;bottom: 0;left: 50%;z-index: -1;}#sk-container-id-1 div.sk-parallel-item {display: flex;flex-direction: column;z-index: 1;position: relative;background-color: white;}#sk-container-id-1 div.sk-parallel-item:first-child::after {align-self: flex-end;width: 50%;}#sk-container-id-1 div.sk-parallel-item:last-child::after {align-self: flex-start;width: 50%;}#sk-container-id-1 div.sk-parallel-item:only-child::after {width: 0;}#sk-container-id-1 div.sk-dashed-wrapped {border: 1px dashed gray;margin: 0 0.4em 0.5em 0.4em;box-sizing: border-box;padding-bottom: 0.4em;background-color: white;}#sk-container-id-1 div.sk-label label {font-family: monospace;font-weight: bold;display: inline-block;line-height: 1.2em;}#sk-container-id-1 div.sk-label-container {text-align: center;}#sk-container-id-1 div.sk-container {/* jupyter's `normalize.less` sets `[hidden] { display: none; }` but bootstrap.min.css set `[hidden] { display: none !important; }` so we also need the `!important` here to be able to override the default hidden behavior on the sphinx rendered scikit-learn.org. See: https://github.com/scikit-learn/scikit-learn/issues/21755 */display: inline-block !important;position: relative;}#sk-container-id-1 div.sk-text-repr-fallback {display: none;}</style><div id=\"sk-container-id-1\" class=\"sk-top-container\"><div class=\"sk-text-repr-fallback\"><pre>RandomForestRegressor()</pre><b>In a Jupyter environment, please rerun this cell to show the HTML representation or trust the notebook. <br />On GitHub, the HTML representation is unable to render, please try loading this page with nbviewer.org.</b></div><div class=\"sk-container\" hidden><div class=\"sk-item\"><div class=\"sk-estimator sk-toggleable\"><input class=\"sk-toggleable__control sk-hidden--visually\" id=\"sk-estimator-id-1\" type=\"checkbox\" checked><label for=\"sk-estimator-id-1\" class=\"sk-toggleable__label sk-toggleable__label-arrow\">RandomForestRegressor</label><div class=\"sk-toggleable__content\"><pre>RandomForestRegressor()</pre></div></div></div></div></div>"
            ]
          },
          "metadata": {},
          "execution_count": 20
        }
      ]
    },
    {
      "cell_type": "code",
      "source": [
        "#predict on test data\n",
        "test_data_prediction = regressor.predict(X_test)"
      ],
      "metadata": {
        "id": "e5tk37xBI9N6"
      },
      "execution_count": 21,
      "outputs": []
    },
    {
      "cell_type": "code",
      "source": [
        "print(test_data_prediction)"
      ],
      "metadata": {
        "colab": {
          "base_uri": "https://localhost:8080/"
        },
        "id": "Un4kMV7DJAi2",
        "outputId": "511c26eb-7dea-4370-9599-8b5d19a2fef5"
      },
      "execution_count": 22,
      "outputs": [
        {
          "output_type": "stream",
          "name": "stdout",
          "text": [
            "[168.46659959  81.9290999  115.98539984 127.7133007  120.45700139\n",
            " 154.71009777 150.11129892 126.28199983 117.46039846 125.98020014\n",
            " 116.95110066 172.34760071 141.19889929 167.95709895 115.13370006\n",
            " 117.67980035 138.6502028  169.76850072 159.09930246 161.02899998\n",
            " 155.21560001 125.28950017 175.22289957 156.67800282 125.15170034\n",
            "  94.00789973  77.16560003 120.52230001 119.13979964 167.43869992\n",
            "  88.09790067 125.21520042  91.10680059 117.73139994 121.11749917\n",
            " 136.76190083 115.42850113 114.98840049 148.66279942 107.52210094\n",
            " 103.76820235  87.29969794 126.5652005  118.12240009 153.11029907\n",
            " 119.61600001 108.21980026 108.06229808  93.1305004  127.33169689\n",
            "  74.70910028 113.68099905 121.25889989 111.38389895 118.92999934\n",
            " 121.01489948 158.39720065 167.09680113 146.94729716  86.14069858\n",
            "  94.10310041  86.82129895  90.56970004 118.93060081 126.386401\n",
            " 127.55190003 169.86749946 122.29079932 117.51789897  98.41870059\n",
            " 167.54080157 143.01789813 131.66750275 121.20150222 121.43509945\n",
            " 119.52250074 114.5174012  118.30790072 107.29880104 127.89540089\n",
            " 114.16919968 107.39930013 116.71410061 119.60599875  89.14940069\n",
            "  88.22609857 147.17140239 127.15160007 113.4989002  109.97079833\n",
            " 108.09839935  77.6401992  170.51200279 113.91649898 121.76929894\n",
            " 128.1905018  155.02589827  91.73329918 136.51480085 158.72610331\n",
            " 125.22340075 125.23190078 130.52820134 114.88630091 119.8035\n",
            "  92.1185997  110.20049889 167.82659889 157.67929911 114.05379941\n",
            " 106.61070153  80.11429933 113.19710033 125.72460045 107.21689927\n",
            " 119.35880112 155.45740351 159.80559861 120.20200024 134.59270231\n",
            " 101.55479972 117.60249805 119.34130015 112.95340057 102.77089912\n",
            " 160.23769781  98.94830059 148.06779935 125.90140152 169.82979924\n",
            " 125.68859913 127.39979733 127.34630145 113.71379958 112.79830056\n",
            " 123.33749903 102.06599875  89.10009995 124.92199965 101.66469933\n",
            " 106.97299886 113.55470066 117.28290071  99.17959941 121.69030053\n",
            " 163.37179886  87.45399853 106.78490006 117.31810043 127.66440139\n",
            " 124.14810062  80.87469927 120.31310078 157.87669818  87.94359959\n",
            " 110.29869938 118.94639907 172.97449898 103.02259902 105.73470024\n",
            " 122.65690035 158.52169768  87.42189832  93.39120047 113.03920024\n",
            " 176.97449939 114.53219994 119.31759998  94.99420115 125.68110059\n",
            " 166.1085017  114.84630022 116.65000115  88.31759861 148.98820125\n",
            " 120.22119965  89.39510006 111.41830035 117.58530057 118.70000133\n",
            "  88.03329933  94.43980034 117.04989976 118.65070167 120.49780057\n",
            " 126.85169837 121.79519998 150.68950059 165.59050136 118.68919969\n",
            " 120.5602015  150.96910091 118.60079935 173.31139853 105.52239946\n",
            " 104.99280129 149.0750012  113.74270076 124.79640108 147.58749959\n",
            " 119.64390082 115.32279994 112.14170048 113.50340188 141.26830117\n",
            " 117.8784977  102.94300047 115.89100104 103.18400161  98.59230065\n",
            " 117.51400058  90.91149997  91.64240072 153.91149873 102.75969982\n",
            " 155.01040106 114.41570151 138.90350072  90.17889838 115.55259933\n",
            " 114.85499981 122.45190002 121.82320032 165.28490202  92.74189973\n",
            " 135.13020144 121.40739912 120.77210033 104.75530007 141.94070321\n",
            " 122.2338994  116.72250049 113.6508009  127.19039747 122.63289932\n",
            " 125.80199918 121.27050038  86.93949909 132.21880081 143.83380219\n",
            "  92.81549978 159.29619973 159.2994025  126.12879932 164.76100003\n",
            " 108.73639951 110.55680065 103.6943981   94.30220039 128.03260278\n",
            " 107.1223007  161.09750006 121.7501005  132.06450011 130.56980152\n",
            " 161.08490027  90.03489835 175.58830192 127.3798003  126.91249875\n",
            "  86.57819945 124.71669929 150.53029747  89.62580034 107.0105\n",
            " 108.95729997  83.82929913 135.67080071 155.02320147 138.33580399\n",
            "  73.98720009 152.00320174 126.1408997  126.68820018 127.49039927\n",
            " 108.67999909 156.61809932 114.49620096 117.17400186 125.21869971\n",
            " 154.09050181 121.42389959 156.52729887  92.8835005  125.56400168\n",
            " 125.89700018  87.8497004   92.06789924 126.10909904 128.67720409\n",
            " 113.07820001 117.64949754 120.95390033 127.27259838 120.01350122\n",
            " 136.89700044  94.07109938 119.63140038 113.36440086  94.32209967\n",
            " 108.60479995  87.09509936 108.62409921  89.65859945  92.30090045\n",
            " 131.58780319 162.32920022  89.33680061 119.60980093 133.40800171\n",
            " 123.72630032 128.34020178 101.98739849  89.15019853 132.08920107\n",
            " 120.22030036 108.32030018 168.14840151 115.30160048  86.67969876\n",
            " 118.92040046  90.99859971 161.5961008  116.60350055 121.69480008\n",
            " 160.15899762 120.05099968 112.7549992  108.39149891 126.76710006\n",
            "  76.11940028 102.9306997  127.90520273 121.86059922  92.60529973\n",
            " 131.95260119 118.12190087 116.26179983 154.65100304 160.06330065\n",
            " 110.14469916 152.59689794 119.2390009  160.64659986 118.76060041\n",
            " 158.12879949 115.17829926 116.57580038 149.4574991  114.71870098\n",
            " 125.88899828 165.76530007 117.8293     125.34649916 153.39710357\n",
            " 153.4027026  132.13410032 114.80160037 121.32520179 124.88830057\n",
            "  89.76690041 122.74839984 155.11330139 111.6521002  106.68440005\n",
            " 161.81970082 118.57999949 165.6950999  134.38080115 115.00609971\n",
            " 152.88139857 168.71140059 114.71160051 114.1241013  158.70309896\n",
            "  85.16769869 127.17240053 127.92110102 128.96119989 124.24400038\n",
            " 124.16000103  90.67650095 152.85040115  97.17259983 138.49719973\n",
            "  89.04069936 107.47770016 115.14020043 112.74090082 124.28559928\n",
            "  91.48509885 125.37820115 162.20689893 119.9697989  164.83610168\n",
            " 126.82879797 112.32430009 127.48579931  95.03499922  90.82249956\n",
            " 103.23339906 120.75040031  83.23629935 126.38530001 160.13320445\n",
            " 117.26960074 118.2838999  120.06929973 122.40949966 120.24870136\n",
            " 121.26359998 118.15800077 106.71369985 148.25089939 126.29459854\n",
            " 115.7663005   74.14879997 127.74420091 153.30970025 122.6901999\n",
            " 125.59430088  88.82510001 103.99409879 124.7570003  120.13290044\n",
            "  73.46400077 151.41990035 121.2600005  104.68189998  86.46969776\n",
            " 115.33429897 172.22449843 119.66560051 160.12049864 113.08019962\n",
            " 121.16210012 118.43070115  95.97969976 118.68100059 126.17360046\n",
            " 118.67299974  96.15800048 153.87590169 122.15410037 147.72319954\n",
            " 158.96490166 113.54370008 122.51189944 148.90969797 127.08240043\n",
            " 165.93920002 135.6082009  120.10039955 167.48769903 108.35699927\n",
            " 121.46289882 139.81990133 106.91469907]\n"
          ]
        }
      ]
    },
    {
      "cell_type": "code",
      "source": [
        "print(test_data_prediction)"
      ],
      "metadata": {
        "colab": {
          "base_uri": "https://localhost:8080/"
        },
        "id": "p6XXXjDwJDMF",
        "outputId": "a7006788-2ce5-44eb-dd20-9904510da310"
      },
      "execution_count": 23,
      "outputs": [
        {
          "output_type": "stream",
          "name": "stdout",
          "text": [
            "[168.46659959  81.9290999  115.98539984 127.7133007  120.45700139\n",
            " 154.71009777 150.11129892 126.28199983 117.46039846 125.98020014\n",
            " 116.95110066 172.34760071 141.19889929 167.95709895 115.13370006\n",
            " 117.67980035 138.6502028  169.76850072 159.09930246 161.02899998\n",
            " 155.21560001 125.28950017 175.22289957 156.67800282 125.15170034\n",
            "  94.00789973  77.16560003 120.52230001 119.13979964 167.43869992\n",
            "  88.09790067 125.21520042  91.10680059 117.73139994 121.11749917\n",
            " 136.76190083 115.42850113 114.98840049 148.66279942 107.52210094\n",
            " 103.76820235  87.29969794 126.5652005  118.12240009 153.11029907\n",
            " 119.61600001 108.21980026 108.06229808  93.1305004  127.33169689\n",
            "  74.70910028 113.68099905 121.25889989 111.38389895 118.92999934\n",
            " 121.01489948 158.39720065 167.09680113 146.94729716  86.14069858\n",
            "  94.10310041  86.82129895  90.56970004 118.93060081 126.386401\n",
            " 127.55190003 169.86749946 122.29079932 117.51789897  98.41870059\n",
            " 167.54080157 143.01789813 131.66750275 121.20150222 121.43509945\n",
            " 119.52250074 114.5174012  118.30790072 107.29880104 127.89540089\n",
            " 114.16919968 107.39930013 116.71410061 119.60599875  89.14940069\n",
            "  88.22609857 147.17140239 127.15160007 113.4989002  109.97079833\n",
            " 108.09839935  77.6401992  170.51200279 113.91649898 121.76929894\n",
            " 128.1905018  155.02589827  91.73329918 136.51480085 158.72610331\n",
            " 125.22340075 125.23190078 130.52820134 114.88630091 119.8035\n",
            "  92.1185997  110.20049889 167.82659889 157.67929911 114.05379941\n",
            " 106.61070153  80.11429933 113.19710033 125.72460045 107.21689927\n",
            " 119.35880112 155.45740351 159.80559861 120.20200024 134.59270231\n",
            " 101.55479972 117.60249805 119.34130015 112.95340057 102.77089912\n",
            " 160.23769781  98.94830059 148.06779935 125.90140152 169.82979924\n",
            " 125.68859913 127.39979733 127.34630145 113.71379958 112.79830056\n",
            " 123.33749903 102.06599875  89.10009995 124.92199965 101.66469933\n",
            " 106.97299886 113.55470066 117.28290071  99.17959941 121.69030053\n",
            " 163.37179886  87.45399853 106.78490006 117.31810043 127.66440139\n",
            " 124.14810062  80.87469927 120.31310078 157.87669818  87.94359959\n",
            " 110.29869938 118.94639907 172.97449898 103.02259902 105.73470024\n",
            " 122.65690035 158.52169768  87.42189832  93.39120047 113.03920024\n",
            " 176.97449939 114.53219994 119.31759998  94.99420115 125.68110059\n",
            " 166.1085017  114.84630022 116.65000115  88.31759861 148.98820125\n",
            " 120.22119965  89.39510006 111.41830035 117.58530057 118.70000133\n",
            "  88.03329933  94.43980034 117.04989976 118.65070167 120.49780057\n",
            " 126.85169837 121.79519998 150.68950059 165.59050136 118.68919969\n",
            " 120.5602015  150.96910091 118.60079935 173.31139853 105.52239946\n",
            " 104.99280129 149.0750012  113.74270076 124.79640108 147.58749959\n",
            " 119.64390082 115.32279994 112.14170048 113.50340188 141.26830117\n",
            " 117.8784977  102.94300047 115.89100104 103.18400161  98.59230065\n",
            " 117.51400058  90.91149997  91.64240072 153.91149873 102.75969982\n",
            " 155.01040106 114.41570151 138.90350072  90.17889838 115.55259933\n",
            " 114.85499981 122.45190002 121.82320032 165.28490202  92.74189973\n",
            " 135.13020144 121.40739912 120.77210033 104.75530007 141.94070321\n",
            " 122.2338994  116.72250049 113.6508009  127.19039747 122.63289932\n",
            " 125.80199918 121.27050038  86.93949909 132.21880081 143.83380219\n",
            "  92.81549978 159.29619973 159.2994025  126.12879932 164.76100003\n",
            " 108.73639951 110.55680065 103.6943981   94.30220039 128.03260278\n",
            " 107.1223007  161.09750006 121.7501005  132.06450011 130.56980152\n",
            " 161.08490027  90.03489835 175.58830192 127.3798003  126.91249875\n",
            "  86.57819945 124.71669929 150.53029747  89.62580034 107.0105\n",
            " 108.95729997  83.82929913 135.67080071 155.02320147 138.33580399\n",
            "  73.98720009 152.00320174 126.1408997  126.68820018 127.49039927\n",
            " 108.67999909 156.61809932 114.49620096 117.17400186 125.21869971\n",
            " 154.09050181 121.42389959 156.52729887  92.8835005  125.56400168\n",
            " 125.89700018  87.8497004   92.06789924 126.10909904 128.67720409\n",
            " 113.07820001 117.64949754 120.95390033 127.27259838 120.01350122\n",
            " 136.89700044  94.07109938 119.63140038 113.36440086  94.32209967\n",
            " 108.60479995  87.09509936 108.62409921  89.65859945  92.30090045\n",
            " 131.58780319 162.32920022  89.33680061 119.60980093 133.40800171\n",
            " 123.72630032 128.34020178 101.98739849  89.15019853 132.08920107\n",
            " 120.22030036 108.32030018 168.14840151 115.30160048  86.67969876\n",
            " 118.92040046  90.99859971 161.5961008  116.60350055 121.69480008\n",
            " 160.15899762 120.05099968 112.7549992  108.39149891 126.76710006\n",
            "  76.11940028 102.9306997  127.90520273 121.86059922  92.60529973\n",
            " 131.95260119 118.12190087 116.26179983 154.65100304 160.06330065\n",
            " 110.14469916 152.59689794 119.2390009  160.64659986 118.76060041\n",
            " 158.12879949 115.17829926 116.57580038 149.4574991  114.71870098\n",
            " 125.88899828 165.76530007 117.8293     125.34649916 153.39710357\n",
            " 153.4027026  132.13410032 114.80160037 121.32520179 124.88830057\n",
            "  89.76690041 122.74839984 155.11330139 111.6521002  106.68440005\n",
            " 161.81970082 118.57999949 165.6950999  134.38080115 115.00609971\n",
            " 152.88139857 168.71140059 114.71160051 114.1241013  158.70309896\n",
            "  85.16769869 127.17240053 127.92110102 128.96119989 124.24400038\n",
            " 124.16000103  90.67650095 152.85040115  97.17259983 138.49719973\n",
            "  89.04069936 107.47770016 115.14020043 112.74090082 124.28559928\n",
            "  91.48509885 125.37820115 162.20689893 119.9697989  164.83610168\n",
            " 126.82879797 112.32430009 127.48579931  95.03499922  90.82249956\n",
            " 103.23339906 120.75040031  83.23629935 126.38530001 160.13320445\n",
            " 117.26960074 118.2838999  120.06929973 122.40949966 120.24870136\n",
            " 121.26359998 118.15800077 106.71369985 148.25089939 126.29459854\n",
            " 115.7663005   74.14879997 127.74420091 153.30970025 122.6901999\n",
            " 125.59430088  88.82510001 103.99409879 124.7570003  120.13290044\n",
            "  73.46400077 151.41990035 121.2600005  104.68189998  86.46969776\n",
            " 115.33429897 172.22449843 119.66560051 160.12049864 113.08019962\n",
            " 121.16210012 118.43070115  95.97969976 118.68100059 126.17360046\n",
            " 118.67299974  96.15800048 153.87590169 122.15410037 147.72319954\n",
            " 158.96490166 113.54370008 122.51189944 148.90969797 127.08240043\n",
            " 165.93920002 135.6082009  120.10039955 167.48769903 108.35699927\n",
            " 121.46289882 139.81990133 106.91469907]\n"
          ]
        }
      ]
    },
    {
      "cell_type": "code",
      "source": [
        "# R squared error\n",
        "error_score = metrics.r2_score(Y_test,test_data_prediction)\n",
        "print(\"R squared error:\",error_score)"
      ],
      "metadata": {
        "colab": {
          "base_uri": "https://localhost:8080/"
        },
        "id": "-PERXTN2JHVM",
        "outputId": "8dd215cc-1a5f-4638-c659-ed951e53c482"
      },
      "execution_count": 24,
      "outputs": [
        {
          "output_type": "stream",
          "name": "stdout",
          "text": [
            "R squared error: 0.9894531907530353\n"
          ]
        }
      ]
    },
    {
      "cell_type": "code",
      "source": [
        "Y_test = list(Y_test)"
      ],
      "metadata": {
        "id": "uWdIWl18JPO2"
      },
      "execution_count": 25,
      "outputs": []
    },
    {
      "cell_type": "code",
      "source": [
        "plt.plot(Y_test, color='blue',label='Actual value')\n",
        "plt.plot(test_data_prediction,color='green',label='Predicted Value')\n",
        "plt.title('Actual price vs Predicted value')\n",
        "plt.xlabel('number of values')\n",
        "plt.ylabel('GLD Price')\n",
        "plt.show()"
      ],
      "metadata": {
        "colab": {
          "base_uri": "https://localhost:8080/",
          "height": 472
        },
        "id": "inrA6PeRJSTT",
        "outputId": "6c2085df-aa97-4004-bac2-7034688d3e48"
      },
      "execution_count": 26,
      "outputs": [
        {
          "output_type": "display_data",
          "data": {
            "text/plain": [
              "<Figure size 640x480 with 1 Axes>"
            ],
            "image/png": "[encoded data removed]"
          },
          "metadata": {}
        }
      ]
    },
    {
      "cell_type": "code",
      "source": [],
      "metadata": {
        "id": "mKMBdF-rJVAw"
      },
      "execution_count": null,
      "outputs": []
    }
  ]
}